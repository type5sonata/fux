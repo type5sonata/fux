{
 "cells": [
  {
   "cell_type": "code",
   "execution_count": 1,
   "metadata": {},
   "outputs": [],
   "source": [
    "from fux import *"
   ]
  },
  {
   "cell_type": "code",
   "execution_count": null,
   "metadata": {},
   "outputs": [],
   "source": []
  },
  {
   "cell_type": "code",
   "execution_count": 2,
   "metadata": {},
   "outputs": [
    {
     "data": {
      "text/plain": [
       "'C4'"
      ]
     },
     "execution_count": 2,
     "metadata": {},
     "output_type": "execute_result"
    }
   ],
   "source": [
    "note = Note(4, 0)\n",
    "note.display()"
   ]
  },
  {
   "cell_type": "code",
   "execution_count": 3,
   "metadata": {},
   "outputs": [
    {
     "data": {
      "text/plain": [
       "['C0', 'C0', 'C0', 'C0', 'C0', 'C0', 'C0', 'C0']"
      ]
     },
     "execution_count": 3,
     "metadata": {},
     "output_type": "execute_result"
    }
   ],
   "source": [
    "voice = Voice(8)\n",
    "voice.display(5)\n",
    "voice.display_all()"
   ]
  },
  {
   "cell_type": "code",
   "execution_count": 4,
   "metadata": {},
   "outputs": [
    {
     "data": {
      "text/plain": [
       "['C0', 'C0', 'C0', 'G4', 'C0', 'C0', 'C0', 'C0']"
      ]
     },
     "execution_count": 4,
     "metadata": {},
     "output_type": "execute_result"
    }
   ],
   "source": [
    "voice.set_single_note(3, 4, 7)\n",
    "voice.display_all()"
   ]
  },
  {
   "cell_type": "code",
   "execution_count": 6,
   "metadata": {},
   "outputs": [
    {
     "data": {
      "text/plain": [
       "['C0', 'C0', 'F#5', '((F#5))', 'C0', 'C0', 'C0', 'C0']"
      ]
     },
     "execution_count": 6,
     "metadata": {},
     "output_type": "execute_result"
    }
   ],
   "source": [
    "voice.set_single_note(2, 5, 6, 2)\n",
    "voice.display_all()"
   ]
  },
  {
   "cell_type": "code",
   "execution_count": 2,
   "metadata": {},
   "outputs": [
    {
     "name": "stdout",
     "output_type": "stream",
     "text": [
      "Voice Soprano added!\n",
      "Voice Alto added!\n",
      "Voice Tenor added!\n",
      "Voice Bass added!\n",
      "Cantus firmus set to Alto.\n",
      "Notes successfully set from [(3, 0), (3, 0), (3, 7), (3, 7)]!\n",
      "Time 0\n",
      "\tSoprano: C0\n",
      "*\tAlto: C0\n",
      "\tTenor: C0\n",
      "\tBass: C3\n",
      "Time 1\n",
      "\tSoprano: C0\n",
      "*\tAlto: C0\n",
      "\tTenor: C0\n",
      "\tBass: C3\n",
      "Time 2\n",
      "\tSoprano: C0\n",
      "*\tAlto: C0\n",
      "\tTenor: C0\n",
      "\tBass: G3\n",
      "Time 3\n",
      "\tSoprano: C0\n",
      "*\tAlto: C0\n",
      "\tTenor: C0\n",
      "\tBass: G3\n"
     ]
    }
   ],
   "source": [
    "from fux import *\n",
    "\n",
    "stave = Stave(length=4)\n",
    "\n",
    "stave.add_voice('Soprano')\n",
    "stave.add_voice('Alto')\n",
    "stave.add_voice('Tenor')\n",
    "stave.add_voice('Bass')\n",
    "stave.set_cantus_firmus('Alto')\n",
    "\n",
    "bass = [(3,0),(3,0),(3,7),(3,7)]\n",
    "\n",
    "stave.voices['Bass'].set_notes(bass)\n",
    "\n",
    "stave.display()"
   ]
  }
 ],
 "metadata": {
  "kernelspec": {
   "display_name": "Python 3.9.12 ('fux': venv)",
   "language": "python",
   "name": "python3"
  },
  "language_info": {
   "codemirror_mode": {
    "name": "ipython",
    "version": 3
   },
   "file_extension": ".py",
   "mimetype": "text/x-python",
   "name": "python",
   "nbconvert_exporter": "python",
   "pygments_lexer": "ipython3",
   "version": "3.9.12"
  },
  "orig_nbformat": 4,
  "vscode": {
   "interpreter": {
    "hash": "1b9f774398d44077da21edf072a466da535b25db74cd03503a4dc18236a68c18"
   }
  }
 },
 "nbformat": 4,
 "nbformat_minor": 2
}
